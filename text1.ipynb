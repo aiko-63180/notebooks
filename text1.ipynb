{
  "nbformat": 4,
  "nbformat_minor": 0,
  "metadata": {
    "colab": {
      "provenance": []
    },
    "kernelspec": {
      "name": "python3",
      "display_name": "Python 3"
    },
    "language_info": {
      "name": "python"
    }
  },
  "cells": [
    {
      "cell_type": "markdown",
      "source": [
        "# プログラミングの基本 第2回 前半"
      ],
      "metadata": {
        "id": "2LkdBtisUIB0"
      }
    },
    {
      "cell_type": "markdown",
      "source": [
        "## Hello, World"
      ],
      "metadata": {
        "id": "OKc5fPOyGPp2"
      }
    },
    {
      "cell_type": "markdown",
      "source": [
        "画面にHello, World!と表示させます。これは、プログラミングを学ぶ人が最初に書く、お約束のようなプログラムです。"
      ],
      "metadata": {
        "id": "mubHibAgbuIw"
      }
    },
    {
      "cell_type": "code",
      "source": [
        "print(\"Hello, World!\")"
      ],
      "metadata": {
        "id": "EEcfoDES_d3P"
      },
      "execution_count": null,
      "outputs": []
    },
    {
      "cell_type": "markdown",
      "source": [
        "## コメントアウト\n"
      ],
      "metadata": {
        "id": "8pC3ED8hAVbt"
      }
    },
    {
      "cell_type": "markdown",
      "source": [
        "Python では `#` (シャープ) から始まる行はインタプリタに認識されないという決まりになっています。この性質を利用して、`#` から始まる行に人間向けの内容を書くことで、他の人がソースコードを読みやすくできます。これを**コメントアウト**と言います。"
      ],
      "metadata": {
        "id": "n_7_1DI-bxWk"
      }
    },
    {
      "cell_type": "code",
      "source": [
        "# この行は無視される\n",
        "print(\"Hello, World!\")"
      ],
      "metadata": {
        "id": "UpqqXelHAiRj"
      },
      "execution_count": null,
      "outputs": []
    },
    {
      "cell_type": "markdown",
      "source": [
        "## 練習問題"
      ],
      "metadata": {
        "id": "c8ZRjwA4_4e9"
      }
    },
    {
      "cell_type": "markdown",
      "source": [
        "1. 自分で `Hello, World!` と表示するプログラムを書いてみましょう。"
      ],
      "metadata": {
        "id": "0BpTyY58b00w"
      }
    },
    {
      "cell_type": "code",
      "source": [
        "%%tee student_output\n",
        "# --- この下に課題のコードを書いてください ---\n"
      ],
      "metadata": {
        "id": "ioQWGyXN_-J6"
      },
      "execution_count": null,
      "outputs": []
    },
    {
      "cell_type": "markdown",
      "source": [
        "`%%tee student_output` というのは採点用に上のコードの出力を `student_output` に格納するという意味なので、無視してもらって構いません。ちなみに `%%` から始まる文は Python ではなく、Jupyter Notebook の仕様で **マジックコマンド** と言われます。"
      ],
      "metadata": {
        "id": "0jRQMKkECfsq"
      }
    },
    {
      "cell_type": "markdown",
      "source": [
        "  書き終えたら採点してみましょう。下のセルを実行してください。\n",
        "\n",
        "  大文字・小文字や全角・半角、スペースの入れ間違いなど、些細な間違いでも正解にしてくれないので注意してください。\n",
        "\n",
        "  納得のいかない方もいるかもしれませんが、プログラムを書く文脈では\"ほぼ\"合っているではなく、完全に合っているとしなければならない場合が多々あるので、その練習だと思ってください。"
      ],
      "metadata": {
        "id": "gOqRdcKE__mR"
      }
    },
    {
      "cell_type": "code",
      "source": [
        "#@title 練習問題1. の採点\n",
        "\n",
        "correct_answer = \"Hello, World!\\n\"\n",
        "\n",
        "if student_output.stdout == correct_answer:\n",
        "  print(\"🎉 素晴らしい！正解です！\")\n",
        "else:\n",
        "  print(\"❌ おしい！もう一度考えてみましょう！\")\n",
        "  print(\"--------------------\")\n",
        "  print(\"【あなたの出力】\")\n",
        "  print(student_output.stdout, end=\"\")\n",
        "  print(\"--------------------\")\n",
        "  print(\"【期待される出力】\")\n",
        "  print(correct_answer, end=\"\")\n",
        "  print(\"--------------------\")"
      ],
      "metadata": {
        "id": "alSeW0tlArOk",
        "cellView": "form"
      },
      "execution_count": null,
      "outputs": []
    },
    {
      "cell_type": "markdown",
      "source": [
        "## 変数を使ってみよう"
      ],
      "metadata": {
        "id": "cG4O_0l9DuNY"
      }
    },
    {
      "cell_type": "markdown",
      "source": [
        "プログラムの中で、データ（数字や文字）を一時的にしまっておくための「箱」のようなものが **変数** です"
      ],
      "metadata": {
        "id": "OZUaMI0ab4a_"
      }
    },
    {
      "cell_type": "code",
      "source": [
        "name = \"もり\"  # name という変数に「もり」という文字列を入れる\n",
        "print(name + \"さん、こんにちは！\")"
      ],
      "metadata": {
        "id": "SLBK_5HQD2lS"
      },
      "execution_count": null,
      "outputs": []
    },
    {
      "cell_type": "markdown",
      "source": [
        "これを実行すると、「もりさん、こんにちは！」と表示されます。\n",
        "数学で使った $x$ や $y$ のようなものだと考えてください。例えば、$x=10, y=20$ のとき、$x+y$ は $30$ になりますね。\n"
      ],
      "metadata": {
        "id": "9dJOdDY1D53Y"
      }
    },
    {
      "cell_type": "code",
      "source": [
        "x = 10\n",
        "y = 20\n",
        "print(x + y) # 30 が出力される"
      ],
      "metadata": {
        "id": "0LfGq8h9ECRZ"
      },
      "execution_count": null,
      "outputs": []
    },
    {
      "cell_type": "markdown",
      "source": [
        "変数にはある程度好きな名前をつけることができます。ただしいくつかルールがあります。\n",
        "\n",
        "- 数字から始まる変数名は設定できません。たとえば`1x`は変数名として使えません。ただし、途中の文字を数字にすることはできるので、`x1`などは変数として使えます。\n",
        "- `=`や`:`など一部の文字も変数名として使えません。"
      ],
      "metadata": {
        "id": "JD7j0iPyERGn"
      }
    },
    {
      "cell_type": "markdown",
      "source": [
        "<div style=\"border: 1px solid #FFCC80; border-left: 5px solid #FFA726; padding: 10px; border-radius: 5px; background-color: #FFF3E0; margin-bottom: 20px;\">\n",
        "    <strong>日本語の変数名について</strong><br>\n",
        "    現在の Python はデフォルトでUTF-8をサポートしているため、全角文字を変数にすることは可能ですが、<strong>推奨されません</strong>。\n",
        "    例えば以下のようなコードは動きはしますが、可読性や保守性といった理由から<strong>好まれない</strong>ので<strong>書かないように</strong>しましょう。\n",
        "\n",
        "```python\n",
        "定価 = 100\n",
        "消費税率 = 0.1\n",
        "値段 = (1 + 消費税率) * 定価\n",
        "print(定価)\n",
        "```\n",
        "\n",
        "</div>"
      ],
      "metadata": {
        "id": "6bm3JGPJEA2v"
      }
    },
    {
      "cell_type": "markdown",
      "source": [
        "## 練習問題"
      ],
      "metadata": {
        "id": "3batvD6PGhqJ"
      }
    },
    {
      "cell_type": "markdown",
      "source": [
        "2. 自分の名前を`my_name`という変数に入れ、「○○です、こんにちは！」と画面に表示してみましょう。なお、`_`は\"アンダースコア\"といい、Shiftキーと「ろ」と書かれているキーを同時押しすると打てるはずです。"
      ],
      "metadata": {
        "id": "iyGezidIb7jT"
      }
    },
    {
      "cell_type": "code",
      "source": [
        "%%tee student_output\n",
        "# --- この下に課題のコードを書いてください ---\n"
      ],
      "metadata": {
        "id": "muZVglE-GZN1"
      },
      "execution_count": null,
      "outputs": []
    },
    {
      "cell_type": "markdown",
      "source": [
        "できてそうなら採点をしてください。なお、課題のコードの横にある実行ボタンを一度も押していないと正しく採点できないので注意してください。"
      ],
      "metadata": {
        "id": "UK1HRwF1Hsj6"
      }
    },
    {
      "cell_type": "code",
      "source": [
        "#@title 練習問題2. の採点\n",
        "\n",
        "checks_passed = 0\n",
        "total_checks = 3\n",
        "\n",
        "print(\"採点を開始します...\\n\")\n",
        "\n",
        "try:\n",
        "    vars = locals()\n",
        "    # --- チェック1: `name` という変数が宣言されているか ---\n",
        "    if 'my_name' in vars:\n",
        "        print(\"✅ チェック1: 変数 `my_name` が宣言されています。\")\n",
        "        checks_passed += 1\n",
        "    else:\n",
        "        print(\"❌ チェック1: 変数 `my_name` が宣言されていません。\")\n",
        "        raise AssertionError(\"`my_name` variable not found.\")\n",
        "\n",
        "    # --- チェック2: `name` に文字列が入っているか ---\n",
        "    student_name = vars['my_name']\n",
        "    if isinstance(student_name, str) and len(student_name) > 0:\n",
        "        print(f\"✅ チェック2: 変数 `my_name` には文字列 '{student_name}' が入っています。\")\n",
        "        checks_passed += 1\n",
        "    else:\n",
        "        print(\"❌ チェック2: 変数 `my_name` に文字列が入っていません。\")\n",
        "        raise AssertionError(\"`my_name` is not a non-empty string.\")\n",
        "\n",
        "    # --- チェック3: 出力があっているか確認する ---\n",
        "    expected_output = f\"{student_name}です、こんにちは！\\n\"\n",
        "    if student_output.stdout == expected_output:\n",
        "        print(\"✅ チェック3: 出力が期待通りです。\")\n",
        "        checks_passed += 1\n",
        "    else:\n",
        "        print(\"❌ チェック3: 出力が期待通りではありません。\")\n",
        "        print(\"【あなたの出力】\")\n",
        "        print(f'\"{actual_output}\"')\n",
        "        print(\"【期待される出力】\")\n",
        "        print(f'\"{expected_output}\"')\n",
        "        raise AssertionError(\"Output mismatch.\")\n",
        "\n",
        "except Exception as e:\n",
        "    print(f\"\\nエラーが発生したため、採点を中断しました。\")\n",
        "\n",
        "finally:\n",
        "    print(\"\\n\" + \"=\"*30)\n",
        "    print(f\"【採点結果】 {total_checks}項目中 {checks_passed}項目クリア！\")\n",
        "    if checks_passed == total_checks:\n",
        "        print(\"🎉 素晴らしい！完璧です！\")\n",
        "    print(\"=\"*30)"
      ],
      "metadata": {
        "id": "pLJRxufUHgwh",
        "cellView": "form"
      },
      "execution_count": null,
      "outputs": []
    },
    {
      "cell_type": "markdown",
      "source": [
        "## 変数の値を更新する\n"
      ],
      "metadata": {
        "id": "JC-OdR3TNUtU"
      }
    },
    {
      "cell_type": "markdown",
      "source": [
        "変数は「箱」のようなものだと説明しましたが、その中身を更新することができます。更新は `(変数) = (式)` という形で書きます。以下のプログラムを見てみましょう。"
      ],
      "metadata": {
        "id": "7LUkS3LJcCSR"
      }
    },
    {
      "cell_type": "code",
      "source": [
        "x = 3\n",
        "print(x) # 3 が出力される\n",
        "x = 5\n",
        "print(x) # 5 が出力される"
      ],
      "metadata": {
        "id": "0nzX_yPCNceW"
      },
      "execution_count": null,
      "outputs": []
    },
    {
      "cell_type": "markdown",
      "source": [
        "変数 `x` の値が `3` から `5` に更新されているのが分かります。次のコードはどうでしょうか？\n"
      ],
      "metadata": {
        "id": "OEKmwMgQNk8N"
      }
    },
    {
      "cell_type": "code",
      "source": [
        "x = 3\n",
        "print(x) # 3 が出力される\n",
        "x = x + 1\n",
        "print(x) # 4 が出力される"
      ],
      "metadata": {
        "id": "baBIW1T3Nlvf"
      },
      "execution_count": null,
      "outputs": []
    },
    {
      "cell_type": "markdown",
      "source": [
        "ここで、 `x = x + 1` という部分は古い `x` の値に `1` を足したものを新しい `x` の値として更新するという意味になります。"
      ],
      "metadata": {
        "id": "lCEgImN3NopS"
      }
    },
    {
      "cell_type": "markdown",
      "source": [
        "<div style=\"border: 1px solid #A5D6A7; border-left: 5px solid #66BB6A; padding: 10px; border-radius: 5px; background-color: #E8F5E9; margin-bottom: 20px;\">\n",
        "    <strong>わかる人向けの補足</strong><br>\n",
        "    Pythonの整数型は<strong>イミュータブル (immutable)</strong> なので、内部ではxの値は更新されているというよりも全く新しい変数が作られ、それがxという名前をもち、古い変数の名前を上書きしてしまっていると捉える方が見方としては正しいです。つまり、整数型で変数の値を更新すると、もともと保存されていたメモリ領域とは異なる領域に保存されます。\n",
        "</div>"
      ],
      "metadata": {
        "id": "I2Wp3HbQNrY1"
      }
    },
    {
      "cell_type": "markdown",
      "source": [
        "## 練習問題"
      ],
      "metadata": {
        "id": "0cmVyTSHOhVa"
      }
    },
    {
      "cell_type": "markdown",
      "source": [
        "3. ある果物屋ではりんごが150円、バナナが100円、ぶどうが200円で売っています。タイムセール中はりんごが3割引き、バナナが5割引き、ぶどうが2割引きになります。今りんご、バナナ、ぶどうの値段がそれぞれ`apple`, `banana`, `grape`という変数に格納されているので、以下のコードを加筆してタイムセール中の値段に`apple`, `banana`, `grape`を書き直してください。\n",
        "\n",
        "なお、掛け算は`*`(アスタリスク)で書けます。例えば変数`x`の値を元の値の2倍に更新したい場合は、`x = 2 * x`とすればよいです。"
      ],
      "metadata": {
        "id": "v_wgIRchcFwR"
      }
    },
    {
      "cell_type": "code",
      "source": [
        "apple = 150\n",
        "banana = 100\n",
        "grape = 200\n",
        "print(\"タイムセール前の値段\")\n",
        "print(f\"りんご:{apple}円\")\n",
        "print(f\"バナナ:{banana}円\")\n",
        "print(f\"ぶどう:{grape}円\")\n",
        "\n",
        "# 以下の式の右辺に適当な式を入れてタイムセール中値段に更新しよう！\n",
        "apple =\n",
        "banana =\n",
        "grape =\n",
        "print(\"\\nタイムセール中の値段\")\n",
        "print(f\"りんご:{apple}円\")\n",
        "print(f\"バナナ:{banana}円\")\n",
        "print(f\"ぶどう:{grape}円\")"
      ],
      "metadata": {
        "id": "BC2EcliKQTSx"
      },
      "execution_count": null,
      "outputs": []
    },
    {
      "cell_type": "markdown",
      "source": [
        "終わったら採点用のプログラムを起動してチェックしましょう。"
      ],
      "metadata": {
        "id": "fN1tfPsXROhh"
      }
    },
    {
      "cell_type": "code",
      "source": [
        "#@title 練習問題3. の採点\n",
        "\n",
        "import math # 浮動小数点数の比較に使う\n",
        "\n",
        "# --- 自動採点プログラム ---\n",
        "\n",
        "print(\"採点を開始します...\\n\")\n",
        "\n",
        "checks_passed = 0\n",
        "total_checks = 3\n",
        "\n",
        "correct_prices = {\n",
        "    \"apple\": 105.0,  # 150 * 0.7\n",
        "    \"banana\": 50.0,   # 100 * 0.5\n",
        "    \"grape\": 160.0   # 200 * 0.8\n",
        "}\n",
        "vars = locals()\n",
        "\n",
        "try:\n",
        "    # --- チェック1: `apple` 変数の値が正しいか ---\n",
        "    if 'apple' in vars:\n",
        "        if math.isclose(vars['apple'], correct_prices['apple']):\n",
        "            print(f\"✅ チェック1: `apple` の値が正しく更新されています。 (値: {vars['apple']})\")\n",
        "            checks_passed += 1\n",
        "        else:\n",
        "            print(f\"❌ チェック1: `apple` の値が間違っています。 (あなたの値: {vars['apple']}, 期待する値: {correct_prices['apple']})\")\n",
        "    else:\n",
        "        print(\"❌ チェック1: `apple` という変数が存在しません。\")\n",
        "\n",
        "    # --- チェック2: `banana` 変数の値が正しいか ---\n",
        "    if 'banana' in vars:\n",
        "        if math.isclose(vars['banana'], correct_prices['banana']):\n",
        "            print(f\"✅ チェック2: `banana` の値が正しく更新されています。 (値: {vars['banana']})\")\n",
        "            checks_passed += 1\n",
        "        else:\n",
        "            print(f\"❌ チェック2: `banana` の値が間違っています。 (あなたの値: {vars['banana']}, 期待する値: {correct_prices['banana']})\")\n",
        "    else:\n",
        "        print(\"❌ チェック2: `banana` という変数が存在しません。\")\n",
        "\n",
        "    # --- チェック3: `grape` 変数の値が正しいか ---\n",
        "    if 'grape' in vars:\n",
        "        if math.isclose(vars['grape'], correct_prices['grape']):\n",
        "            print(f\"✅ チェック3: `grape` の値が正しく更新されています。 (値: {vars['grape']})\")\n",
        "            checks_passed += 1\n",
        "        else:\n",
        "            print(f\"❌ チェック3: `grape` の値が間違っています。 (あなたの値: {vars['grape']}, 期待する値: {correct_prices['grape']})\")\n",
        "    else:\n",
        "        print(\"❌ チェック3: `grape` という変数が存在しません。\")\n",
        "\n",
        "except Exception as e:\n",
        "    print(f\"\\n採点中に予期せぬエラーが発生しました: {e}\")\n",
        "\n",
        "finally:\n",
        "    print(\"\\n\" + \"=\"*30)\n",
        "    print(f\"【採点結果】 {total_checks}項目中 {checks_passed}項目クリア！\")\n",
        "    if checks_passed == total_checks:\n",
        "        print(\"🎉 素晴らしい！完璧です！\")\n",
        "    print(\"=\"*30)\n"
      ],
      "metadata": {
        "id": "MuHXoOpdRTMV",
        "cellView": "form"
      },
      "execution_count": null,
      "outputs": []
    },
    {
      "cell_type": "markdown",
      "source": [
        "4. 数列 $\\{a_n\\}_{n\\geqq 1}$ を漸化式を用いて\n",
        "$$\n",
        "a_n = \\begin{cases}2 &(n=1)\\\\ 3&(n=2)\\\\ 2a_{n-1}+a_{n-2} & (n\\geqq 3)\\end{cases}\n",
        "$$\n",
        "で定義します。変数`a1,a2,a3,a4,a5`を定義して、それぞれに $a_1,a_2,a_3,a_4,a_5$ の値を格納してください。"
      ],
      "metadata": {
        "id": "YWH_4jPoQSNk"
      }
    },
    {
      "cell_type": "code",
      "source": [
        "# ここにコードを書いて実行しよう！\n"
      ],
      "metadata": {
        "id": "hu8Bga95TBYE"
      },
      "execution_count": null,
      "outputs": []
    },
    {
      "cell_type": "markdown",
      "source": [
        "できたら実行後採点してください。"
      ],
      "metadata": {
        "id": "PeuyaNt9TF-o"
      }
    },
    {
      "cell_type": "code",
      "source": [
        "#@title 練習問題4. の採点\n",
        "\n",
        "a = [2, 3, 8, 19, 46]\n",
        "vars = locals()\n",
        "ans = True\n",
        "for i in range(5):\n",
        "  var = f\"a{i+1}\"\n",
        "  if not var in vars:\n",
        "    print(f\"❌ 変数{var}が定義されていません\")\n",
        "    ans = False\n",
        "    break\n",
        "  elif vars[var] != a[i]:\n",
        "    print(f\"❌ 変数{var}の値が違います\")\n",
        "    ans = False\n",
        "    break\n",
        "if ans:\n",
        "  print(\"🎉 素晴らしい！完璧です！\")"
      ],
      "metadata": {
        "id": "w7yj7OWPTOAE",
        "cellView": "form"
      },
      "execution_count": null,
      "outputs": []
    },
    {
      "cell_type": "markdown",
      "source": [
        "## ここ以下は無視してください"
      ],
      "metadata": {
        "id": "-Ry4cvMqU_0q"
      }
    },
    {
      "cell_type": "markdown",
      "source": [
        "以下のコードは採点用のプログラムのために用意したものなので読まなくて良いです。ないものと思って扱ってください。"
      ],
      "metadata": {
        "id": "BX81y1n5InYV"
      }
    },
    {
      "cell_type": "code",
      "source": [
        "from IPython import get_ipython\n",
        "from IPython.core import magic_arguments\n",
        "from IPython.core.magic import register_cell_magic\n",
        "from IPython.utils.capture import capture_output\n",
        "\n",
        "@magic_arguments.magic_arguments()\n",
        "@magic_arguments.argument('output', type=str, default='', nargs='?',\n",
        "    help=\"\"\"The name of the variable in which to store output.\n",
        "    This is a utils.io.CapturedIO object with stdout/err attributes\n",
        "    for the text of the captured output.\n",
        "    CapturedOutput also has a show() method for displaying the output,\n",
        "    and __call__ as well, so you can use that to quickly display the\n",
        "    output.\n",
        "    If unspecified, captured output is discarded.\n",
        "    \"\"\"\n",
        ")\n",
        "@magic_arguments.argument('--no-stderr', action=\"store_true\",\n",
        "    help=\"\"\"Don't capture stderr.\"\"\"\n",
        ")\n",
        "@magic_arguments.argument('--no-stdout', action=\"store_true\",\n",
        "    help=\"\"\"Don't capture stdout.\"\"\"\n",
        ")\n",
        "@magic_arguments.argument('--no-display', action=\"store_true\",\n",
        "    help=\"\"\"Don't capture IPython's rich display.\"\"\"\n",
        ")\n",
        "@register_cell_magic\n",
        "def tee(line, cell):\n",
        "    args = magic_arguments.parse_argstring(tee, line)\n",
        "    out = not args.no_stdout\n",
        "    err = not args.no_stderr\n",
        "    disp = not args.no_display\n",
        "    with capture_output(out, err, disp) as io:\n",
        "        get_ipython().run_cell(cell)\n",
        "    if args.output:\n",
        "        get_ipython().user_ns[args.output] = io\n",
        "\n",
        "    io()"
      ],
      "metadata": {
        "id": "UCmT5b54ImoM"
      },
      "execution_count": 1,
      "outputs": []
    }
  ]
}