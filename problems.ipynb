{
  "nbformat": 4,
  "nbformat_minor": 0,
  "metadata": {
    "colab": {
      "provenance": [],
      "include_colab_link": true
    },
    "kernelspec": {
      "name": "python3",
      "display_name": "Python 3"
    },
    "language_info": {
      "name": "python"
    }
  },
  "cells": [
    {
      "cell_type": "markdown",
      "metadata": {
        "id": "view-in-github",
        "colab_type": "text"
      },
      "source": [
        "<a href=\"https://colab.research.google.com/github/aiko-63180/notebooks/blob/main/problems.ipynb\" target=\"_parent\"><img src=\"https://colab.research.google.com/assets/colab-badge.svg\" alt=\"Open In Colab\"/></a>"
      ]
    },
    {
      "cell_type": "markdown",
      "source": [
        "# 採点プログラムの起動のために直下の三角ボタンを押してプログラムを実行してください"
      ],
      "metadata": {
        "id": "t6nvD62Dz3Q7"
      }
    },
    {
      "cell_type": "code",
      "source": [
        "#@title 採点プログラムを起動\n",
        "from IPython import get_ipython\n",
        "from IPython.core import magic_arguments\n",
        "from IPython.core.magic import register_cell_magic\n",
        "from IPython.utils.capture import capture_output\n",
        "\n",
        "@magic_arguments.magic_arguments()\n",
        "@magic_arguments.argument('output', type=str, default='', nargs='?',\n",
        "    help=\"\"\"The name of the variable in which to store output.\n",
        "    This is a utils.io.CapturedIO object with stdout/err attributes\n",
        "    for the text of the captured output.\n",
        "    CapturedOutput also has a show() method for displaying the output,\n",
        "    and __call__ as well, so you can use that to quickly display the\n",
        "    output.\n",
        "    If unspecified, captured output is discarded.\n",
        "    \"\"\"\n",
        ")\n",
        "@magic_arguments.argument('--no-stderr', action=\"store_true\",\n",
        "    help=\"\"\"Don't capture stderr.\"\"\"\n",
        ")\n",
        "@magic_arguments.argument('--no-stdout', action=\"store_true\",\n",
        "    help=\"\"\"Don't capture stdout.\"\"\"\n",
        ")\n",
        "@magic_arguments.argument('--no-display', action=\"store_true\",\n",
        "    help=\"\"\"Don't capture IPython's rich display.\"\"\"\n",
        ")\n",
        "@register_cell_magic\n",
        "def tee(line, cell):\n",
        "    args = magic_arguments.parse_argstring(tee, line)\n",
        "    out = not args.no_stdout\n",
        "    err = not args.no_stderr\n",
        "    disp = not args.no_display\n",
        "    with capture_output(out, err, disp) as io:\n",
        "        get_ipython().run_cell(cell)\n",
        "    if args.output:\n",
        "        get_ipython().user_ns[args.output] = io\n",
        "\n",
        "    io()"
      ],
      "metadata": {
        "cellView": "form",
        "id": "e13blKNWz1_W"
      },
      "execution_count": null,
      "outputs": []
    },
    {
      "cell_type": "markdown",
      "source": [
        "# 総合演習"
      ],
      "metadata": {
        "id": "3gKBKyxEp6iW"
      }
    },
    {
      "cell_type": "markdown",
      "source": [
        "多少歯ごたえのあるコードを書きたい人向けです。各々の問題は独立しているので、好きなものから解くことができると思います。ただし、恐らく問題番号順に難易度が上がると思います。なお、変数、条件分岐、ループが書けることを前提にしています。"
      ],
      "metadata": {
        "id": "suUuJWtRp9QU"
      }
    },
    {
      "cell_type": "markdown",
      "source": [
        "## 問題1"
      ],
      "metadata": {
        "id": "s6jUpmChqDJx"
      }
    },
    {
      "cell_type": "markdown",
      "source": [
        "現在、コンピュータによる円周率の計算では[BPP公式](https://ja.wikipedia.org/wiki/%E3%83%99%E3%82%A4%E3%83%AA%E3%83%BC%EF%BC%9D%E3%83%9C%E3%83%BC%E3%83%AB%E3%82%A6%E3%82%A7%E3%82%A4%E3%83%B3%EF%BC%9D%E3%83%97%E3%83%A9%E3%82%A6%E3%83%95%E3%81%AE%E5%85%AC%E5%BC%8F)と呼ばれる以下の級数表示が、収束速度や並列処理の容易性、さらに16進数表示であれば桁を確定しやすいことなどから使われています。\n",
        "$$\n",
        "\\pi=\\sum_{k=0}^\\infty \\frac{1}{16^k}\\left(\\frac{4}{8k+1}-\\frac{2}{8k+4}-\\frac{1}{8k+5}-\\frac{1}{8k+6}\\right)\n",
        "$$\n",
        "この公式をもとに円周率を計算してみましょう。初項から$n$項までの有限回で打ち切った和\n",
        "$$\n",
        "b_n=\\sum_{k=0}^n \\frac{1}{16^k}\\left(\\frac{4}{8k+1}-\\frac{2}{8k+4}-\\frac{1}{8k+5}-\\frac{1}{8k+6}\\right)\n",
        "$$\n",
        "が初めて小数点以下$7$桁の精度で円周率を計算できるような最小の$n$とそのときの$b_n$の値を求めてください。なお、円周率の値は以下の小数点以下$10$桁の精度の近似値を採用してもらって構いません。\n",
        "$$\n",
        "\\pi\\approx 3.14159265359\n",
        "$$\n",
        "すなわち、$\\pi'=3.14159265359$ としたとき $|b_n-\\pi'|<10^{-7}$ を満たす最小の $n$ とそのときの $b_n$ を求めてください。\n",
        "なお、出力は\n",
        "\n",
        "$n$<br>\n",
        "$b_n$\n",
        "\n",
        "と、$n$ を出力してから改行して $b_n$ を出力してください。\n",
        "\n",
        "\n",
        "なお、Python で整数のべき乗 $a^b$ を計算する方法は`a**b`であり、浮動小数点数`x`の絶対値は`abs(x)`で取得できます。"
      ],
      "metadata": {
        "id": "4LpgJGzEqE6C"
      }
    },
    {
      "cell_type": "code",
      "execution_count": null,
      "metadata": {
        "id": "9aAku2Uap3WP"
      },
      "outputs": [],
      "source": [
        "%%tee student_output\n",
        "# ここ以下にコードを記入\n"
      ]
    },
    {
      "cell_type": "code",
      "source": [
        "#@title 問題1. の採点\n",
        "\n",
        "import math\n",
        "correct_n = 4\n",
        "correct_b_n = 3.1415926454603365\n",
        "try:\n",
        "  lines = student_output.stdout.split('\\n')\n",
        "  n = int(lines[0])\n",
        "  b_n = float(lines[1])\n",
        "  if n == correct_n and math.isclose(b_n, correct_b_n):\n",
        "    print(\"✅ 正解！すばらしい！\")\n",
        "  else:\n",
        "    print(\"❌ 出力が期待通りになっていません！もう少し考えてみよう！\")\n",
        "except:\n",
        "  print(\"❌ 出力が正しい形式になっていません！もう少し考えてみよう！\")\n"
      ],
      "metadata": {
        "id": "FmJNWNNatS1p",
        "cellView": "form"
      },
      "execution_count": null,
      "outputs": []
    },
    {
      "cell_type": "markdown",
      "source": [
        "## 問題2"
      ],
      "metadata": {
        "id": "ih8S7gIMu6FZ"
      }
    },
    {
      "cell_type": "markdown",
      "source": [
        "座標平面上の**格子点**とは2つの成分がともに整数であるような点でした。相異なる2組の格子点 $(x_1,y_1),(x_2,y_2)$ であって、$0\\leqq x_1,x_2,y_1,y_2\\leqq 100$ を満たすもののうち、距離がちょうど $\\sqrt{65}$ つまり、\n",
        "$$\n",
        "(x_1-x_2)^2+(y_1-y_2)^2=65\n",
        "$$\n",
        "になるようなものの総数を求めて出力してください。なお、$(x_1,y_1),(x_2,y_2)$ の順番は区別しない、つまり例えば $(0,0),(7,4)$ および $(7,4), (0,0)$ は同じものとして数えます。"
      ],
      "metadata": {
        "id": "MJV9EFxWvMlV"
      }
    },
    {
      "cell_type": "code",
      "source": [
        "%%tee student_output\n",
        "# ここ以下にコードを記入\n"
      ],
      "metadata": {
        "id": "TGj6xty30Agr"
      },
      "execution_count": null,
      "outputs": []
    },
    {
      "cell_type": "code",
      "source": [
        "#@title 問題2. の採点\n",
        "\n",
        "ans = 73672\n",
        "try:\n",
        "  n = int(student_output.stdout.strip())\n",
        "  if n == ans:\n",
        "    print(\"✅ 正解！すばらしい！\")\n",
        "  else:\n",
        "    print(\"❌ 出力が期待通りになっていません！もう少し考えてみよう！\")\n",
        "except:\n",
        "  print(\"❌ 出力が正しい形式になっていません！もう少し考えてみよう！\")"
      ],
      "metadata": {
        "id": "10uDN0ol1HgK",
        "cellView": "form"
      },
      "execution_count": null,
      "outputs": []
    },
    {
      "cell_type": "markdown",
      "source": [
        "## 問題3.\n"
      ],
      "metadata": {
        "id": "1-1eIeZk19c7"
      }
    },
    {
      "cell_type": "markdown",
      "source": [
        "正整数 $n$ に対して、$n$ 番目の**レピュニット数(repunit number)** $R_n$ とは、\n",
        "\n",
        "$$\n",
        "R_n = \\underbrace{11\\ldots 11}_{n 個}\n",
        "$$\n",
        "\n",
        "と$10$進表記で$1$が $n$ 個並んだ数を表します。すなわち、\n",
        "\n",
        "$$\n",
        "R_n=\\sum_{k=0}^{n-1}10^k=\\frac{10^n-1}{9}\n",
        "$$\n",
        "\n",
        "です。\n",
        "\n",
        "\n",
        "正整数 $n$ が最初に変数として与えられているとき、\n",
        "\n",
        "- もし $R_m$ が $n$ の倍数になるような $m$ が存在するなら、そのような $m$ の中で最小のものを出力してください。\n",
        "- そのような $R_m$ が存在しなければ $0$ を出力してください。\n",
        "\n",
        "なお、採点では様々な $n$ を動かして正答できているかを確認したいので、最終的に書いたコードを`your_code`の\"\"\"と\"\"\"の間に囲まれた部分に貼り付けてください。"
      ],
      "metadata": {
        "id": "f8ic4uKb2sik"
      }
    },
    {
      "cell_type": "code",
      "source": [
        "your_code = \"\"\"\n",
        "\n",
        "\"\"\"\n",
        "\n",
        "n = 2 # この n が違う n でも動作するようにしよう\n",
        "# ここ以下にコードを書いて、ここ以下の内容を your_code の中に貼り付けてから実行してほしい"
      ],
      "metadata": {
        "id": "onz5rqZo4DEi"
      },
      "execution_count": null,
      "outputs": []
    },
    {
      "cell_type": "code",
      "source": [
        "#@title 問題3.の採点\n",
        "import io\n",
        "from contextlib import redirect_stdout\n",
        "\n",
        "\n",
        "def solve_repunit(n):\n",
        "    if n <= 0: return 0\n",
        "    if n == 1: return 1\n",
        "    if n % 2 == 0 or n % 5 == 0:\n",
        "        return 0\n",
        "\n",
        "    remainder = 0\n",
        "\n",
        "    for m in range(1, n + 2):\n",
        "        remainder = (remainder * 10 + 1) % n\n",
        "        if remainder == 0:\n",
        "            return m\n",
        "    return 0\n",
        "\n",
        "# --- テストケース ---\n",
        "test_cases = [\n",
        "    (3, 3),\n",
        "    (7, 6),\n",
        "    (13, 6),\n",
        "    (41, 5),\n",
        "    (1, 1),\n",
        "    (2, 0),     # 2で割り切れる\n",
        "    (5, 0),     # 5で割り切れる\n",
        "    (10, 0),    # 10で割り切れる\n",
        "    (9, 9),\n",
        "    (21, 6),    # 合成数\n",
        "    (99, 18),\n",
        "]\n",
        "\n",
        "# --- 自動採点プログラム ---\n",
        "passed_count = 0\n",
        "total_tests = len(test_cases)\n",
        "print(\"採点を開始します...\\n\")\n",
        "\n",
        "for i, (test_n, expected_m) in enumerate(test_cases):\n",
        "    captured_output = io.StringIO()\n",
        "\n",
        "    # 実行用のグローバル変数を準備\n",
        "    exec_globals = {'n': test_n}\n",
        "\n",
        "    print(f\"--- テストケース {i+1}: n = {test_n} ---\")\n",
        "\n",
        "    try:\n",
        "        with redirect_stdout(captured_output):\n",
        "            exec(your_code, exec_globals)\n",
        "\n",
        "        # 出力を取得し、整数に変換\n",
        "        actual_output_str = captured_output.getvalue().strip()\n",
        "        actual_m = int(actual_output_str)\n",
        "\n",
        "        # 採点\n",
        "        if actual_m == expected_m:\n",
        "            print(f\"✅ PASSED! (出力: {actual_m})\")\n",
        "            passed_count += 1\n",
        "        else:\n",
        "            print(f\"❌ FAILED...\")\n",
        "            print(f\"【あなたの出力】: {actual_m}\")\n",
        "            print(f\"【期待される出力】: {expected_m}\")\n",
        "\n",
        "    except ValueError:\n",
        "        print(f\"❌ FAILED: 出力が整数ではありません。\")\n",
        "        print(f\"【あなたの出力】: {captured_output.getvalue()!r}\")\n",
        "    except Exception as e:\n",
        "        print(f\"❌ ERROR: プログラムの実行中にエラーが発生しました。\")\n",
        "        print(f\"   エラー内容: {e}\")\n",
        "    print(\"-\" * 30)\n",
        "\n",
        "# --- 最終結果 ---\n",
        "print(f\"\\n【採点結果】 {total_tests}問中 {passed_count}問 正解！\")\n",
        "if passed_count == total_tests:\n",
        "    print(\"🎉 素晴らしい！全問正解です！\")"
      ],
      "metadata": {
        "cellView": "form",
        "id": "ICdJkkBa58xk"
      },
      "execution_count": null,
      "outputs": []
    },
    {
      "cell_type": "markdown",
      "source": [
        "### 発展的な課題\n",
        "各自然数 $n$ に対して、問題3.の答えを $f(n)$ とすると、$f(n)\\leqq n$ が成立します。これはこの問題を解けた人ならすぐに分かるでしょう。\n",
        "\n",
        "では、等号が成立するとき、つまり $f(n)=n$ となるのはいつでしょうか？実はこれは非常に簡単な必要十分条件があります。自分で書いたプログラムに様々な数字を入れて実験しながら探してみてください。なお、証明自体も高校数学の範囲でできるので考えてみましょう。"
      ],
      "metadata": {
        "id": "m1V2BdEb7tm1"
      }
    }
  ]
}