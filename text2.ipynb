{
  "nbformat": 4,
  "nbformat_minor": 0,
  "metadata": {
    "colab": {
      "provenance": [],
      "collapsed_sections": [
        "JG6SlG2hYWcT",
        "PIxaFBw9ZqjY",
        "-Ry4cvMqU_0q"
      ],
      "include_colab_link": true
    },
    "kernelspec": {
      "name": "python3",
      "display_name": "Python 3"
    },
    "language_info": {
      "name": "python"
    }
  },
  "cells": [
    {
      "cell_type": "markdown",
      "metadata": {
        "id": "view-in-github",
        "colab_type": "text"
      },
      "source": [
        "<a href=\"https://colab.research.google.com/github/aiko-63180/notebooks/blob/main/text2.ipynb\" target=\"_parent\"><img src=\"https://colab.research.google.com/assets/colab-badge.svg\" alt=\"Open In Colab\"/></a>"
      ]
    },
    {
      "cell_type": "markdown",
      "source": [
        "# 採点プログラムの起動のために直下の三角ボタンを押してプログラムを実行してください"
      ],
      "metadata": {
        "id": "qd4EBFn6zIbL"
      }
    },
    {
      "cell_type": "code",
      "source": [
        "#@title 採点プログラムを起動\n",
        "from IPython import get_ipython\n",
        "from IPython.core import magic_arguments\n",
        "from IPython.core.magic import register_cell_magic\n",
        "from IPython.utils.capture import capture_output\n",
        "\n",
        "@magic_arguments.magic_arguments()\n",
        "@magic_arguments.argument('output', type=str, default='', nargs='?',\n",
        "    help=\"\"\"The name of the variable in which to store output.\n",
        "    This is a utils.io.CapturedIO object with stdout/err attributes\n",
        "    for the text of the captured output.\n",
        "    CapturedOutput also has a show() method for displaying the output,\n",
        "    and __call__ as well, so you can use that to quickly display the\n",
        "    output.\n",
        "    If unspecified, captured output is discarded.\n",
        "    \"\"\"\n",
        ")\n",
        "@magic_arguments.argument('--no-stderr', action=\"store_true\",\n",
        "    help=\"\"\"Don't capture stderr.\"\"\"\n",
        ")\n",
        "@magic_arguments.argument('--no-stdout', action=\"store_true\",\n",
        "    help=\"\"\"Don't capture stdout.\"\"\"\n",
        ")\n",
        "@magic_arguments.argument('--no-display', action=\"store_true\",\n",
        "    help=\"\"\"Don't capture IPython's rich display.\"\"\"\n",
        ")\n",
        "@register_cell_magic\n",
        "def tee(line, cell):\n",
        "    args = magic_arguments.parse_argstring(tee, line)\n",
        "    out = not args.no_stdout\n",
        "    err = not args.no_stderr\n",
        "    disp = not args.no_display\n",
        "    with capture_output(out, err, disp) as io:\n",
        "        get_ipython().run_cell(cell)\n",
        "    if args.output:\n",
        "        get_ipython().user_ns[args.output] = io\n",
        "\n",
        "    io()"
      ],
      "metadata": {
        "cellView": "form",
        "id": "1f9FT0W3zFCU"
      },
      "execution_count": null,
      "outputs": []
    },
    {
      "cell_type": "markdown",
      "source": [
        "# プログラミングの基本 第2回 後半"
      ],
      "metadata": {
        "id": "X1ZULhLPYMlH"
      }
    },
    {
      "cell_type": "markdown",
      "source": [
        "## 条件分岐"
      ],
      "metadata": {
        "id": "CzW_8IisZgft"
      }
    },
    {
      "cell_type": "markdown",
      "source": [
        "「もし〇〇ならば、△△する」というように、条件によって処理を変えるのが**条件分岐**です。\n",
        "Pythonでは `if` を使って書きます。これは、皆さんが知っているフローチャートのひし形（判断記号）に対応します。"
      ],
      "metadata": {
        "id": "JG6SlG2hYWcT"
      }
    },
    {
      "cell_type": "markdown",
      "source": [
        "### if 文の基本的な書き方\n",
        "変数の `score` が80点以上なら「合格！」と表示するプログラムです。"
      ],
      "metadata": {
        "id": "FqMZaqLcYjXs"
      }
    },
    {
      "cell_type": "code",
      "execution_count": null,
      "metadata": {
        "id": "dEB55PALYHSm"
      },
      "outputs": [],
      "source": [
        "score = 85\n",
        "\n",
        "if score >= 80:\n",
        "    print(\"合格！\")"
      ]
    },
    {
      "cell_type": "markdown",
      "source": [
        "`:` (コロン) と、次の行の先頭を少し下げるインデント(Tabキーか半角スペース4つ)を忘れないようにしましょう。"
      ],
      "metadata": {
        "id": "EDFKwu1tYzl6"
      }
    },
    {
      "cell_type": "markdown",
      "source": [
        "### else と elif (それ以外の場合)\n",
        "「合格」ではない場合の処理も追加できます。"
      ],
      "metadata": {
        "id": "MOBEmRzXY2Gr"
      }
    },
    {
      "cell_type": "code",
      "source": [
        "score = 70\n",
        "\n",
        "if score >= 80:\n",
        "    print(\"合格！\")\n",
        "else:\n",
        "    print(\"あと少し！\")"
      ],
      "metadata": {
        "id": "nLVcOhSfY4D5"
      },
      "execution_count": null,
      "outputs": []
    },
    {
      "cell_type": "markdown",
      "source": [
        "さらに、「もし80点以上なら合格、もし60点未満なら追試、それ以外は...」のように、複数の条件を設定するには `elif` を使います。"
      ],
      "metadata": {
        "id": "mUrJa1hVY8mU"
      }
    },
    {
      "cell_type": "code",
      "source": [
        "score = 70\n",
        "\n",
        "if score >= 80:\n",
        "    print(\"合格！\")\n",
        "elif score < 60:\n",
        "    print(\"追試！\")\n",
        "else:\n",
        "    print(\"あと少し！\")"
      ],
      "metadata": {
        "id": "kwZF6-zaZA_R"
      },
      "execution_count": null,
      "outputs": []
    },
    {
      "cell_type": "markdown",
      "source": [
        "また、等号については `=` ではなく `==` となります。`=` は変数に対する代入に使われるため、意味が異なることに注意しましょう。"
      ],
      "metadata": {
        "id": "X3-DAbIyZEEK"
      }
    },
    {
      "cell_type": "code",
      "source": [
        "if 1 + 1 == 2: # 一致は = ではなく ==\n",
        "  print(\"1+1 は 2 です\")\n",
        "else:\n",
        "  print(\"1+1 は 2 ではありません\")"
      ],
      "metadata": {
        "id": "FNLtwGc6-Jtg"
      },
      "execution_count": null,
      "outputs": []
    },
    {
      "cell_type": "markdown",
      "source": [
        "## 練習問題"
      ],
      "metadata": {
        "id": "GuOxf-5Acqv6"
      }
    },
    {
      "cell_type": "markdown",
      "source": [
        "1. 工藤新一くんは17歳です。あなたと工藤新一くんの年齢を比べてみましょう。変数`age`にあなたの年齢を入れた後、17と比べて、\n",
        "- `age`の方が大きければ、\"あなたは工藤新一より年上です。\"と、\n",
        "- `age`と同じであれば、\"あなたは工藤新一と同い年です。\"と、\n",
        "- `age`の方が小さければ、\"あなたは工藤新一より年下です。\"と、<br>\n",
        "出力するプログラムを書いてください。\n",
        "\n",
        "なお`age`に入れる値は整数値、つまり16.5歳とかはしないようにしましょう。(しても良いですが、恐らく採点で弾かれます)。また、`age`にあなたや身近な人の年齢を代入して実行してみましょう。"
      ],
      "metadata": {
        "id": "1Ne0T0Z_ctwM"
      }
    },
    {
      "cell_type": "code",
      "source": [
        "%%tee student_output\n",
        "# ここにコードを書こう\n"
      ],
      "metadata": {
        "id": "VOSAQckCd1KI"
      },
      "execution_count": null,
      "outputs": []
    },
    {
      "cell_type": "code",
      "source": [
        "#@title 練習問題1. の採点\n",
        "\n",
        "checks_passed = 0\n",
        "total_checks = 3\n",
        "\n",
        "print(\"採点を開始します...\\n\")\n",
        "\n",
        "try:\n",
        "    vars = locals()\n",
        "    # --- チェック1: `age` という変数が宣言されているか ---\n",
        "    if 'age' in vars:\n",
        "        print(\"✅ チェック1: 変数 `age` が宣言されています。\")\n",
        "        checks_passed += 1\n",
        "    else:\n",
        "        print(\"❌ チェック1: 変数 `age` が宣言されていません。\")\n",
        "        raise AssertionError(\"`age` variable not found.\")\n",
        "\n",
        "    # --- チェック2: `age` に非負整数が入っているか ---\n",
        "    student_age = vars['age']\n",
        "    if isinstance(student_age, int) and student_age >= 0:\n",
        "        print(f\"✅ チェック2: 変数 `age` には非負整数 '{student_age}' が入っています。\")\n",
        "        checks_passed += 1\n",
        "    else:\n",
        "        print(\"❌ チェック2: 変数 `age` に整数が入っていません。\")\n",
        "        raise AssertionError(\"`age` is not a non-empty string.\")\n",
        "\n",
        "    # --- チェック3: 出力があっているか確認する ---\n",
        "    larger = \"あなたは工藤新一より年上です。\\n\"\n",
        "    equal = \"あなたは工藤新一と同い年です。\\n\"\n",
        "    smaller = \"あなたは工藤新一より年下です。\\n\"\n",
        "    expected_output = larger if student_age > 17 else equal if student_age == 17 else smaller\n",
        "    actual_output = student_output.stdout\n",
        "    if actual_output == expected_output:\n",
        "        print(\"✅ チェック3: 出力が期待通りです。\")\n",
        "        checks_passed += 1\n",
        "    else:\n",
        "        print(\"❌ チェック3: 出力が期待通りではありません。\")\n",
        "        print(\"【あなたの出力】\")\n",
        "        print(f'\"{actual_output}\"')\n",
        "        print(\"【期待される出力】\")\n",
        "        print(f'\"{expected_output}\"')\n",
        "        raise AssertionError(\"Output mismatch.\")\n",
        "\n",
        "except Exception as e:\n",
        "    print(f\"\\nエラーが発生したため、採点を中断しました。\")\n",
        "\n",
        "finally:\n",
        "    print(\"\\n\" + \"=\"*30)\n",
        "    print(f\"【採点結果】 {total_checks}項目中 {checks_passed}項目クリア！\")\n",
        "    if checks_passed == total_checks:\n",
        "        print(\"🎉 素晴らしい！完璧です！\")\n",
        "    print(\"=\"*30)"
      ],
      "metadata": {
        "cellView": "form",
        "id": "sFMmXW0I8Crf"
      },
      "execution_count": null,
      "outputs": []
    },
    {
      "cell_type": "markdown",
      "source": [
        "## ループ"
      ],
      "metadata": {
        "id": "aX1rzmViZkZF"
      }
    },
    {
      "cell_type": "markdown",
      "source": [
        "同じような処理を何度も繰り返したいとき、ループを使います。Pythonでは `for` と `while` がよく使われます。これはフローチャートのループ記号に対応します。"
      ],
      "metadata": {
        "id": "mTMl-w7KZmHZ"
      }
    },
    {
      "cell_type": "markdown",
      "source": [
        "### for 文の基本的な書き方\n",
        "例えば、「ありがとう」を100回表示したい場合、100回 `print()` を書くのは大変です。その代わりにループ処理を書けば2行で書くことができます。"
      ],
      "metadata": {
        "id": "PIxaFBw9ZqjY"
      }
    },
    {
      "cell_type": "code",
      "source": [
        "for i in range(100):\n",
        "    print(i, \"回目のありがとう\")"
      ],
      "metadata": {
        "id": "JyFKqAqeZxkV"
      },
      "execution_count": null,
      "outputs": []
    },
    {
      "cell_type": "markdown",
      "source": [
        "`i` という変数には、今が何回目の繰り返しなのか `0, 1, 2, 3, ..., 99` が順番に入ります。\n",
        "\n",
        "また`range` ってなんだと思う人もいるかもしれませんが、今の段階ではそういう\"おまじない”のようなものだと考えてもらって構いません。"
      ],
      "metadata": {
        "id": "-AJn_rSqZvuB"
      }
    },
    {
      "cell_type": "markdown",
      "source": [
        "<div style=\"border: 1px solid #B0BEC5; border-left: 5px solid #42A5F5; padding: 10px; border-radius: 5px; background-color: #F5F5F5; margin-bottom: 20px;\">\n",
        "    <strong>わかる人向けの補足</strong><br>\n",
        "    ここで書いた<code>range(100)</code>の正体は<strong>イテレータ(iterator)</strong>と呼ばれるものです。イテレータとは繰り返し処理を抽象化した概念で、各要素に対して「次の要素」を指定できるような構造をもつものと考えてもらってかまいません。Python でもリストや辞書などの様々なデータ構造に対してループ処理を実現できますが、それらに対する処理を共通化して、効率的な管理をするために考えられた概念で、現在の多くの主要な言語(例えばC++やJavascriptなど)でイテレータが実装されています。\n",
        "</div>"
      ],
      "metadata": {
        "id": "5exgEfO7ZzUE"
      }
    },
    {
      "cell_type": "markdown",
      "source": [
        "### while 文の基本的な書き方\n",
        "繰り返しを行う際には、何回行うかだけでなく、条件が満たされるまで行いたいという場面が多々あります。そういった場合には for 文より while 文の方が適しています。\n"
      ],
      "metadata": {
        "id": "n7DcXHUoaWrT"
      }
    },
    {
      "cell_type": "markdown",
      "source": [
        "例としてモンスターのHPが0になるまで、攻撃を繰り返す勇者のプログラムを書いてみましょう。なお、`_`は\"アンダースコア\"といい、Shiftキーと「ろ」と書かれているキーを同時押しすると打てるはずです。"
      ],
      "metadata": {
        "id": "TRHjGOwpacTU"
      }
    },
    {
      "cell_type": "code",
      "source": [
        "monster_hp = 10 # 敵のHPを10に設定\n",
        "\n",
        "while monster_hp > 0:\n",
        "    print(\"勇者の攻撃！モンスターに3のダメージ！\")\n",
        "    monster_hp = monster_hp - 3\n",
        "    print(f\"モンスターの残りHP: {max(0, monster_hp)}\")\n",
        "\n",
        "print(\"モンスターを倒した！\") # ループが終わった後に実行される"
      ],
      "metadata": {
        "id": "Og2zT1c8aWTY"
      },
      "execution_count": null,
      "outputs": []
    },
    {
      "cell_type": "markdown",
      "source": [
        "この例では `monster_hp` が `0` より大きい限り、while 文の中の処理が実行されます。なお、 `max(x,y)` で、`x` と `y` の大きい方の値を取得できます。そのため、`max(0, monster_hp)` によって残りのヒットポイントより多くのダメージを与える攻撃をしてもヒットポイントが0より小さくならなくなっています。"
      ],
      "metadata": {
        "id": "3HiPle7batm2"
      }
    },
    {
      "cell_type": "markdown",
      "source": [
        "## 練習問題"
      ],
      "metadata": {
        "id": "INXtejVDg2zD"
      }
    },
    {
      "cell_type": "markdown",
      "source": [
        "2. `for`文を使って、数字の1から20までを1行ずつ順番に表示するプログラムを作成してみよう。\n",
        "\n",
        "ヒント：`range(n)` は `0,1,...,n-1` の順番に値を入れるが、整数`a,b`に対して `range(a,b)` と書くと、`a,a+1,...,b-1` という順番に値を返すようになる。"
      ],
      "metadata": {
        "id": "G8Ge4FtPg4Dx"
      }
    },
    {
      "cell_type": "code",
      "source": [
        "%%tee student_output\n",
        "## この下にコードを記入\n"
      ],
      "metadata": {
        "id": "gBWYwM7rhRgW"
      },
      "execution_count": null,
      "outputs": []
    },
    {
      "cell_type": "code",
      "source": [
        "#@title 練習問題2.の採点 (出来たら動かしてみよう)\n",
        "\n",
        "correct_answer = \"\".join([f\"{i+1}\\n\" for i in range(20)])\n",
        "if student_output.stdout == correct_answer:\n",
        "  print(\"✅ 正解！すばらしい！\")\n",
        "else:\n",
        "  print(\"❌ 出力が期待通りになっていません！もう少し考えてみよう！\")\n",
        "  print(\"【あなたの出力】\")\n",
        "  print(f'\"{student_output.stdout}\"')\n",
        "  print(\"【期待される出力】\")\n",
        "  print(f'\"{correct_answer}\"')"
      ],
      "metadata": {
        "id": "Vk04GBPzhYjL",
        "cellView": "form"
      },
      "execution_count": null,
      "outputs": []
    },
    {
      "cell_type": "markdown",
      "source": [
        "3. 以下の for ループと全く同じ出力をするプログラムを while ループを使って書いてみよう。なおこの問題も採点プログラムは用意していない。\n",
        "```python\n",
        "for i in range(5):\n",
        "    print(\"Hello, World!\")\n",
        "```"
      ],
      "metadata": {
        "id": "bFR7FKqalAaA"
      }
    },
    {
      "cell_type": "code",
      "source": [
        "## ここにコードを書く。\n"
      ],
      "metadata": {
        "id": "RjaHXpv3lPQP"
      },
      "execution_count": null,
      "outputs": []
    }
  ]
}